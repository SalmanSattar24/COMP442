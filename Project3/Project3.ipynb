{
 "cells": [
  {
   "cell_type": "code",
   "execution_count": 56,
   "metadata": {},
   "outputs": [],
   "source": [
    "# Import necessary libraries\n",
    "from sklearn import datasets\n",
    "from sklearn.model_selection import train_test_split, GridSearchCV\n",
    "from sklearn.preprocessing import StandardScaler\n",
    "from sklearn.pipeline import Pipeline\n",
    "from sklearn import svm\n",
    "from sklearn.model_selection import cross_val_score\n"
   ]
  },
  {
   "cell_type": "code",
   "execution_count": 57,
   "metadata": {},
   "outputs": [],
   "source": [
    "# Load MNIST dataset\n",
    "digits = datasets.load_digits()"
   ]
  },
  {
   "cell_type": "code",
   "execution_count": 58,
   "metadata": {},
   "outputs": [],
   "source": [
    "# Split the dataset into training and testing sets\n",
    "X_train, X_test, y_train, y_test = train_test_split(digits.data, digits.target, test_size=0.2, random_state=42)"
   ]
  },
  {
   "cell_type": "markdown",
   "metadata": {},
   "source": [
    "### Linear SVM"
   ]
  },
  {
   "cell_type": "code",
   "execution_count": 59,
   "metadata": {},
   "outputs": [],
   "source": [
    "# Define hyperparameters to search\n",
    "param_grid_linear = {'svm__C': [0.1, 1, 10, 100, 1000], 'svm__max_iter': [1000, 5000, 10000]}"
   ]
  },
  {
   "cell_type": "markdown",
   "metadata": {},
   "source": [
    "#### This pipeline is used only for grid search this is not the final model"
   ]
  },
  {
   "cell_type": "code",
   "execution_count": 60,
   "metadata": {},
   "outputs": [],
   "source": [
    "# Define pipelines, for Linear SVM \n",
    "pipeline_linear = Pipeline([\n",
    "    ('scaler', StandardScaler()),\n",
    "    ('svm', svm.LinearSVC(dual = False, max_iter = 10000))\n",
    "])"
   ]
  },
  {
   "cell_type": "code",
   "execution_count": 61,
   "metadata": {},
   "outputs": [],
   "source": [
    "# Create GridSearchCV instances\n",
    "grid_linear = GridSearchCV(pipeline_linear, param_grid_linear, refit=True, verbose=3, n_jobs=-1)"
   ]
  },
  {
   "cell_type": "code",
   "execution_count": 62,
   "metadata": {},
   "outputs": [
    {
     "name": "stdout",
     "output_type": "stream",
     "text": [
      "Fitting 5 folds for each of 15 candidates, totalling 75 fits\n",
      "[CV 2/5] END ....svm__C=0.1, svm__max_iter=1000;, score=0.941 total time=   0.2s\n",
      "[CV 4/5] END ....svm__C=0.1, svm__max_iter=1000;, score=0.969 total time=   0.3s\n",
      "[CV 2/5] END ....svm__C=0.1, svm__max_iter=5000;, score=0.941 total time=   0.3s\n",
      "[CV 5/5] END ....svm__C=0.1, svm__max_iter=1000;, score=0.927 total time=   0.4s\n",
      "[CV 1/5] END ....svm__C=0.1, svm__max_iter=5000;, score=0.969 total time=   0.3s\n",
      "[CV 2/5] END ...svm__C=0.1, svm__max_iter=10000;, score=0.941 total time=   0.3s\n",
      "[CV 1/5] END ....svm__C=0.1, svm__max_iter=1000;, score=0.969 total time=   0.4s\n",
      "[CV 3/5] END ....svm__C=0.1, svm__max_iter=1000;, score=0.955 total time=   0.7s\n",
      "[CV 4/5] END ...svm__C=0.1, svm__max_iter=10000;, score=0.969 total time=   0.4s\n",
      "[CV 4/5] END ....svm__C=0.1, svm__max_iter=5000;, score=0.969 total time=   0.4s\n",
      "[CV 3/5] END ....svm__C=0.1, svm__max_iter=5000;, score=0.955 total time=   0.5s\n",
      "[CV 5/5] END ....svm__C=0.1, svm__max_iter=5000;, score=0.927 total time=   0.5s\n",
      "[CV 1/5] END ...svm__C=0.1, svm__max_iter=10000;, score=0.969 total time=   0.7s\n",
      "[CV 3/5] END ...svm__C=0.1, svm__max_iter=10000;, score=0.955 total time=   0.6s\n",
      "[CV 5/5] END ...svm__C=0.1, svm__max_iter=10000;, score=0.927 total time=   0.4s\n",
      "[CV 2/5] END ......svm__C=1, svm__max_iter=1000;, score=0.955 total time=   2.5s\n",
      "[CV 5/5] END .....svm__C=1, svm__max_iter=10000;, score=0.913 total time=   1.9s\n",
      "[CV 5/5] END ......svm__C=1, svm__max_iter=1000;, score=0.913 total time=   2.8s\n",
      "[CV 5/5] END ......svm__C=1, svm__max_iter=5000;, score=0.913 total time=   2.5s\n",
      "[CV 1/5] END ......svm__C=1, svm__max_iter=1000;, score=0.969 total time=   2.8s\n",
      "[CV 1/5] END ......svm__C=1, svm__max_iter=5000;, score=0.969 total time=   2.9s\n",
      "[CV 2/5] END .....svm__C=1, svm__max_iter=10000;, score=0.955 total time=   2.8s\n",
      "[CV 2/5] END ......svm__C=1, svm__max_iter=5000;, score=0.955 total time=   3.4s\n",
      "[CV 3/5] END ......svm__C=1, svm__max_iter=5000;, score=0.941 total time=   3.4s\n",
      "[CV 4/5] END .....svm__C=1, svm__max_iter=10000;, score=0.958 total time=   3.1s\n",
      "[CV 1/5] END .....svm__C=1, svm__max_iter=10000;, score=0.969 total time=   3.3s\n",
      "[CV 3/5] END ......svm__C=1, svm__max_iter=1000;, score=0.941 total time=   4.2s\n",
      "[CV 4/5] END ......svm__C=1, svm__max_iter=1000;, score=0.958 total time=   4.7s\n",
      "[CV 3/5] END .....svm__C=1, svm__max_iter=10000;, score=0.941 total time=   4.2s\n",
      "[CV 4/5] END ......svm__C=1, svm__max_iter=5000;, score=0.958 total time=   4.3s\n"
     ]
    },
    {
     "name": "stderr",
     "output_type": "stream",
     "text": [
      "/home/salman/.local/lib/python3.10/site-packages/sklearn/svm/_base.py:1250: ConvergenceWarning: Liblinear failed to converge, increase the number of iterations.\n",
      "  warnings.warn(\n"
     ]
    },
    {
     "name": "stdout",
     "output_type": "stream",
     "text": [
      "[CV 1/5] END ....svm__C=100, svm__max_iter=1000;, score=0.938 total time=   4.4s\n"
     ]
    },
    {
     "name": "stderr",
     "output_type": "stream",
     "text": [
      "/home/salman/.local/lib/python3.10/site-packages/sklearn/svm/_base.py:1250: ConvergenceWarning: Liblinear failed to converge, increase the number of iterations.\n",
      "  warnings.warn(\n"
     ]
    },
    {
     "name": "stdout",
     "output_type": "stream",
     "text": [
      "[CV 5/5] END .....svm__C=10, svm__max_iter=1000;, score=0.906 total time=  10.2s\n"
     ]
    },
    {
     "name": "stderr",
     "output_type": "stream",
     "text": [
      "/home/salman/.local/lib/python3.10/site-packages/sklearn/svm/_base.py:1250: ConvergenceWarning: Liblinear failed to converge, increase the number of iterations.\n",
      "  warnings.warn(\n",
      "/home/salman/.local/lib/python3.10/site-packages/sklearn/svm/_base.py:1250: ConvergenceWarning: Liblinear failed to converge, increase the number of iterations.\n",
      "  warnings.warn(\n"
     ]
    },
    {
     "name": "stdout",
     "output_type": "stream",
     "text": [
      "[CV 2/5] END .....svm__C=10, svm__max_iter=1000;, score=0.931 total time=  11.1s\n",
      "[CV 2/5] END ....svm__C=100, svm__max_iter=1000;, score=0.931 total time=   4.2s\n"
     ]
    },
    {
     "name": "stderr",
     "output_type": "stream",
     "text": [
      "/home/salman/.local/lib/python3.10/site-packages/sklearn/svm/_base.py:1250: ConvergenceWarning: Liblinear failed to converge, increase the number of iterations.\n",
      "  warnings.warn(\n"
     ]
    },
    {
     "name": "stdout",
     "output_type": "stream",
     "text": [
      "[CV 1/5] END .....svm__C=10, svm__max_iter=1000;, score=0.944 total time=  13.6s\n",
      "[CV 5/5] END .....svm__C=10, svm__max_iter=5000;, score=0.906 total time=  11.0s\n",
      "[CV 5/5] END ....svm__C=10, svm__max_iter=10000;, score=0.906 total time=  10.1s\n"
     ]
    },
    {
     "name": "stderr",
     "output_type": "stream",
     "text": [
      "/home/salman/.local/lib/python3.10/site-packages/sklearn/svm/_base.py:1250: ConvergenceWarning: Liblinear failed to converge, increase the number of iterations.\n",
      "  warnings.warn(\n"
     ]
    },
    {
     "name": "stdout",
     "output_type": "stream",
     "text": [
      "[CV 3/5] END .....svm__C=10, svm__max_iter=1000;, score=0.934 total time=  13.9s\n",
      "[CV 5/5] END ....svm__C=100, svm__max_iter=1000;, score=0.902 total time=   4.2s\n"
     ]
    },
    {
     "name": "stderr",
     "output_type": "stream",
     "text": [
      "/home/salman/.local/lib/python3.10/site-packages/sklearn/svm/_base.py:1250: ConvergenceWarning: Liblinear failed to converge, increase the number of iterations.\n",
      "  warnings.warn(\n",
      "/home/salman/.local/lib/python3.10/site-packages/sklearn/svm/_base.py:1250: ConvergenceWarning: Liblinear failed to converge, increase the number of iterations.\n",
      "  warnings.warn(\n"
     ]
    },
    {
     "name": "stdout",
     "output_type": "stream",
     "text": [
      "[CV 4/5] END .....svm__C=10, svm__max_iter=1000;, score=0.930 total time=  15.1s\n",
      "[CV 3/5] END ....svm__C=100, svm__max_iter=1000;, score=0.930 total time=   4.9s\n",
      "[CV 1/5] END ....svm__C=100, svm__max_iter=5000;, score=0.934 total time=   4.4s\n"
     ]
    },
    {
     "name": "stderr",
     "output_type": "stream",
     "text": [
      "/home/salman/.local/lib/python3.10/site-packages/sklearn/svm/_base.py:1250: ConvergenceWarning: Liblinear failed to converge, increase the number of iterations.\n",
      "  warnings.warn(\n"
     ]
    },
    {
     "name": "stdout",
     "output_type": "stream",
     "text": [
      "[CV 4/5] END ....svm__C=100, svm__max_iter=1000;, score=0.930 total time=   7.0s\n",
      "[CV 5/5] END ....svm__C=100, svm__max_iter=5000;, score=0.902 total time=   3.7s\n",
      "[CV 2/5] END ....svm__C=100, svm__max_iter=5000;, score=0.931 total time=   6.7s\n",
      "[CV 2/5] END ....svm__C=10, svm__max_iter=10000;, score=0.934 total time=  18.1s\n",
      "[CV 1/5] END ...svm__C=100, svm__max_iter=10000;, score=0.934 total time=   4.9s\n",
      "[CV 2/5] END ...svm__C=100, svm__max_iter=10000;, score=0.931 total time=   6.1s\n",
      "[CV 1/5] END ...svm__C=1000, svm__max_iter=1000;, score=0.934 total time=   3.2s\n"
     ]
    },
    {
     "name": "stderr",
     "output_type": "stream",
     "text": [
      "/home/salman/.local/lib/python3.10/site-packages/sklearn/svm/_base.py:1250: ConvergenceWarning: Liblinear failed to converge, increase the number of iterations.\n",
      "  warnings.warn(\n",
      "/home/salman/.local/lib/python3.10/site-packages/sklearn/svm/_base.py:1250: ConvergenceWarning: Liblinear failed to converge, increase the number of iterations.\n",
      "  warnings.warn(\n"
     ]
    },
    {
     "name": "stdout",
     "output_type": "stream",
     "text": [
      "[CV 3/5] END .....svm__C=10, svm__max_iter=5000;, score=0.934 total time=  22.0s\n",
      "[CV 2/5] END ...svm__C=1000, svm__max_iter=1000;, score=0.924 total time=   3.4s\n",
      "[CV 5/5] END ...svm__C=100, svm__max_iter=10000;, score=0.902 total time=   4.2s\n",
      "[CV 3/5] END ....svm__C=100, svm__max_iter=5000;, score=0.930 total time=  11.0s\n",
      "[CV 1/5] END .....svm__C=10, svm__max_iter=5000;, score=0.948 total time=  23.2s\n"
     ]
    },
    {
     "name": "stderr",
     "output_type": "stream",
     "text": [
      "/home/salman/.local/lib/python3.10/site-packages/sklearn/svm/_base.py:1250: ConvergenceWarning: Liblinear failed to converge, increase the number of iterations.\n",
      "  warnings.warn(\n"
     ]
    },
    {
     "name": "stdout",
     "output_type": "stream",
     "text": [
      "[CV 3/5] END ...svm__C=1000, svm__max_iter=1000;, score=0.934 total time=   3.9s\n",
      "[CV 3/5] END ....svm__C=10, svm__max_iter=10000;, score=0.930 total time=  22.7s\n",
      "[CV 1/5] END ....svm__C=10, svm__max_iter=10000;, score=0.948 total time=  23.3s\n",
      "[CV 4/5] END ....svm__C=100, svm__max_iter=5000;, score=0.930 total time=  10.6s\n",
      "[CV 4/5] END .....svm__C=10, svm__max_iter=5000;, score=0.930 total time=  23.7s\n",
      "[CV 5/5] END ...svm__C=1000, svm__max_iter=1000;, score=0.899 total time=   3.3s\n"
     ]
    },
    {
     "name": "stderr",
     "output_type": "stream",
     "text": [
      "/home/salman/.local/lib/python3.10/site-packages/sklearn/svm/_base.py:1250: ConvergenceWarning: Liblinear failed to converge, increase the number of iterations.\n",
      "  warnings.warn(\n"
     ]
    },
    {
     "name": "stdout",
     "output_type": "stream",
     "text": [
      "[CV 4/5] END ...svm__C=1000, svm__max_iter=1000;, score=0.927 total time=   3.9s\n",
      "[CV 3/5] END ...svm__C=100, svm__max_iter=10000;, score=0.930 total time=   9.4s\n"
     ]
    },
    {
     "name": "stderr",
     "output_type": "stream",
     "text": [
      "/home/salman/.local/lib/python3.10/site-packages/sklearn/svm/_base.py:1250: ConvergenceWarning: Liblinear failed to converge, increase the number of iterations.\n",
      "  warnings.warn(\n"
     ]
    },
    {
     "name": "stdout",
     "output_type": "stream",
     "text": [
      "[CV 2/5] END .....svm__C=10, svm__max_iter=5000;, score=0.934 total time=  25.3s\n",
      "[CV 1/5] END ...svm__C=1000, svm__max_iter=5000;, score=0.934 total time=   3.1s\n",
      "[CV 4/5] END ....svm__C=10, svm__max_iter=10000;, score=0.930 total time=  23.7s\n",
      "[CV 4/5] END ...svm__C=100, svm__max_iter=10000;, score=0.930 total time=   8.2s\n",
      "[CV 5/5] END ...svm__C=1000, svm__max_iter=5000;, score=0.899 total time=   2.3s\n",
      "[CV 2/5] END ..svm__C=1000, svm__max_iter=10000;, score=0.924 total time=   1.8s\n",
      "[CV 2/5] END ...svm__C=1000, svm__max_iter=5000;, score=0.924 total time=   3.3s\n",
      "[CV 3/5] END ...svm__C=1000, svm__max_iter=5000;, score=0.934 total time=   3.2s\n",
      "[CV 5/5] END ..svm__C=1000, svm__max_iter=10000;, score=0.899 total time=   1.4s\n",
      "[CV 1/5] END ..svm__C=1000, svm__max_iter=10000;, score=0.934 total time=   1.9s\n",
      "[CV 3/5] END ..svm__C=1000, svm__max_iter=10000;, score=0.934 total time=   1.7s\n",
      "[CV 4/5] END ...svm__C=1000, svm__max_iter=5000;, score=0.927 total time=   2.9s\n",
      "[CV 4/5] END ..svm__C=1000, svm__max_iter=10000;, score=0.927 total time=   1.6s\n"
     ]
    },
    {
     "data": {
      "text/html": [
       "<style>#sk-container-id-11 {color: black;}#sk-container-id-11 pre{padding: 0;}#sk-container-id-11 div.sk-toggleable {background-color: white;}#sk-container-id-11 label.sk-toggleable__label {cursor: pointer;display: block;width: 100%;margin-bottom: 0;padding: 0.3em;box-sizing: border-box;text-align: center;}#sk-container-id-11 label.sk-toggleable__label-arrow:before {content: \"▸\";float: left;margin-right: 0.25em;color: #696969;}#sk-container-id-11 label.sk-toggleable__label-arrow:hover:before {color: black;}#sk-container-id-11 div.sk-estimator:hover label.sk-toggleable__label-arrow:before {color: black;}#sk-container-id-11 div.sk-toggleable__content {max-height: 0;max-width: 0;overflow: hidden;text-align: left;background-color: #f0f8ff;}#sk-container-id-11 div.sk-toggleable__content pre {margin: 0.2em;color: black;border-radius: 0.25em;background-color: #f0f8ff;}#sk-container-id-11 input.sk-toggleable__control:checked~div.sk-toggleable__content {max-height: 200px;max-width: 100%;overflow: auto;}#sk-container-id-11 input.sk-toggleable__control:checked~label.sk-toggleable__label-arrow:before {content: \"▾\";}#sk-container-id-11 div.sk-estimator input.sk-toggleable__control:checked~label.sk-toggleable__label {background-color: #d4ebff;}#sk-container-id-11 div.sk-label input.sk-toggleable__control:checked~label.sk-toggleable__label {background-color: #d4ebff;}#sk-container-id-11 input.sk-hidden--visually {border: 0;clip: rect(1px 1px 1px 1px);clip: rect(1px, 1px, 1px, 1px);height: 1px;margin: -1px;overflow: hidden;padding: 0;position: absolute;width: 1px;}#sk-container-id-11 div.sk-estimator {font-family: monospace;background-color: #f0f8ff;border: 1px dotted black;border-radius: 0.25em;box-sizing: border-box;margin-bottom: 0.5em;}#sk-container-id-11 div.sk-estimator:hover {background-color: #d4ebff;}#sk-container-id-11 div.sk-parallel-item::after {content: \"\";width: 100%;border-bottom: 1px solid gray;flex-grow: 1;}#sk-container-id-11 div.sk-label:hover label.sk-toggleable__label {background-color: #d4ebff;}#sk-container-id-11 div.sk-serial::before {content: \"\";position: absolute;border-left: 1px solid gray;box-sizing: border-box;top: 0;bottom: 0;left: 50%;z-index: 0;}#sk-container-id-11 div.sk-serial {display: flex;flex-direction: column;align-items: center;background-color: white;padding-right: 0.2em;padding-left: 0.2em;position: relative;}#sk-container-id-11 div.sk-item {position: relative;z-index: 1;}#sk-container-id-11 div.sk-parallel {display: flex;align-items: stretch;justify-content: center;background-color: white;position: relative;}#sk-container-id-11 div.sk-item::before, #sk-container-id-11 div.sk-parallel-item::before {content: \"\";position: absolute;border-left: 1px solid gray;box-sizing: border-box;top: 0;bottom: 0;left: 50%;z-index: -1;}#sk-container-id-11 div.sk-parallel-item {display: flex;flex-direction: column;z-index: 1;position: relative;background-color: white;}#sk-container-id-11 div.sk-parallel-item:first-child::after {align-self: flex-end;width: 50%;}#sk-container-id-11 div.sk-parallel-item:last-child::after {align-self: flex-start;width: 50%;}#sk-container-id-11 div.sk-parallel-item:only-child::after {width: 0;}#sk-container-id-11 div.sk-dashed-wrapped {border: 1px dashed gray;margin: 0 0.4em 0.5em 0.4em;box-sizing: border-box;padding-bottom: 0.4em;background-color: white;}#sk-container-id-11 div.sk-label label {font-family: monospace;font-weight: bold;display: inline-block;line-height: 1.2em;}#sk-container-id-11 div.sk-label-container {text-align: center;}#sk-container-id-11 div.sk-container {/* jupyter's `normalize.less` sets `[hidden] { display: none; }` but bootstrap.min.css set `[hidden] { display: none !important; }` so we also need the `!important` here to be able to override the default hidden behavior on the sphinx rendered scikit-learn.org. See: https://github.com/scikit-learn/scikit-learn/issues/21755 */display: inline-block !important;position: relative;}#sk-container-id-11 div.sk-text-repr-fallback {display: none;}</style><div id=\"sk-container-id-11\" class=\"sk-top-container\"><div class=\"sk-text-repr-fallback\"><pre>GridSearchCV(estimator=Pipeline(steps=[(&#x27;scaler&#x27;, StandardScaler()),\n",
       "                                       (&#x27;svm&#x27;,\n",
       "                                        LinearSVC(dual=False,\n",
       "                                                  max_iter=10000))]),\n",
       "             n_jobs=-1,\n",
       "             param_grid={&#x27;svm__C&#x27;: [0.1, 1, 10, 100, 1000],\n",
       "                         &#x27;svm__max_iter&#x27;: [1000, 5000, 10000]},\n",
       "             verbose=3)</pre><b>In a Jupyter environment, please rerun this cell to show the HTML representation or trust the notebook. <br />On GitHub, the HTML representation is unable to render, please try loading this page with nbviewer.org.</b></div><div class=\"sk-container\" hidden><div class=\"sk-item sk-dashed-wrapped\"><div class=\"sk-label-container\"><div class=\"sk-label sk-toggleable\"><input class=\"sk-toggleable__control sk-hidden--visually\" id=\"sk-estimator-id-37\" type=\"checkbox\" ><label for=\"sk-estimator-id-37\" class=\"sk-toggleable__label sk-toggleable__label-arrow\">GridSearchCV</label><div class=\"sk-toggleable__content\"><pre>GridSearchCV(estimator=Pipeline(steps=[(&#x27;scaler&#x27;, StandardScaler()),\n",
       "                                       (&#x27;svm&#x27;,\n",
       "                                        LinearSVC(dual=False,\n",
       "                                                  max_iter=10000))]),\n",
       "             n_jobs=-1,\n",
       "             param_grid={&#x27;svm__C&#x27;: [0.1, 1, 10, 100, 1000],\n",
       "                         &#x27;svm__max_iter&#x27;: [1000, 5000, 10000]},\n",
       "             verbose=3)</pre></div></div></div><div class=\"sk-parallel\"><div class=\"sk-parallel-item\"><div class=\"sk-item\"><div class=\"sk-label-container\"><div class=\"sk-label sk-toggleable\"><input class=\"sk-toggleable__control sk-hidden--visually\" id=\"sk-estimator-id-38\" type=\"checkbox\" ><label for=\"sk-estimator-id-38\" class=\"sk-toggleable__label sk-toggleable__label-arrow\">estimator: Pipeline</label><div class=\"sk-toggleable__content\"><pre>Pipeline(steps=[(&#x27;scaler&#x27;, StandardScaler()),\n",
       "                (&#x27;svm&#x27;, LinearSVC(dual=False, max_iter=10000))])</pre></div></div></div><div class=\"sk-serial\"><div class=\"sk-item\"><div class=\"sk-serial\"><div class=\"sk-item\"><div class=\"sk-estimator sk-toggleable\"><input class=\"sk-toggleable__control sk-hidden--visually\" id=\"sk-estimator-id-39\" type=\"checkbox\" ><label for=\"sk-estimator-id-39\" class=\"sk-toggleable__label sk-toggleable__label-arrow\">StandardScaler</label><div class=\"sk-toggleable__content\"><pre>StandardScaler()</pre></div></div></div><div class=\"sk-item\"><div class=\"sk-estimator sk-toggleable\"><input class=\"sk-toggleable__control sk-hidden--visually\" id=\"sk-estimator-id-40\" type=\"checkbox\" ><label for=\"sk-estimator-id-40\" class=\"sk-toggleable__label sk-toggleable__label-arrow\">LinearSVC</label><div class=\"sk-toggleable__content\"><pre>LinearSVC(dual=False, max_iter=10000)</pre></div></div></div></div></div></div></div></div></div></div></div></div>"
      ],
      "text/plain": [
       "GridSearchCV(estimator=Pipeline(steps=[('scaler', StandardScaler()),\n",
       "                                       ('svm',\n",
       "                                        LinearSVC(dual=False,\n",
       "                                                  max_iter=10000))]),\n",
       "             n_jobs=-1,\n",
       "             param_grid={'svm__C': [0.1, 1, 10, 100, 1000],\n",
       "                         'svm__max_iter': [1000, 5000, 10000]},\n",
       "             verbose=3)"
      ]
     },
     "execution_count": 62,
     "metadata": {},
     "output_type": "execute_result"
    }
   ],
   "source": [
    "# Fit the instances to the training data\n",
    "grid_linear.fit(X_train, y_train)\n",
    "\n"
   ]
  },
  {
   "cell_type": "code",
   "execution_count": 63,
   "metadata": {},
   "outputs": [
    {
     "name": "stdout",
     "output_type": "stream",
     "text": [
      "Best parameters for Linear SVM:  {'svm__C': 0.1, 'svm__max_iter': 1000}\n"
     ]
    }
   ],
   "source": [
    "# Get the best parameters\n",
    "best_params_linear = grid_linear.best_params_\n",
    "# Print the best parameters\n",
    "print(\"Best parameters for Linear SVM: \", best_params_linear)"
   ]
  },
  {
   "cell_type": "markdown",
   "metadata": {},
   "source": [
    "#### Final pipeline with the best parameters"
   ]
  },
  {
   "cell_type": "code",
   "execution_count": 64,
   "metadata": {},
   "outputs": [],
   "source": [
    "# Define the pipelines with the best parameters\n",
    "pipeline_linear_best = Pipeline([\n",
    "    ('scaler', StandardScaler()),\n",
    "    ('svm', svm.LinearSVC(C=best_params_linear['svm__C'], max_iter=10000, dual=False))\n",
    "])"
   ]
  },
  {
   "cell_type": "code",
   "execution_count": 65,
   "metadata": {},
   "outputs": [
    {
     "data": {
      "text/html": [
       "<style>#sk-container-id-12 {color: black;}#sk-container-id-12 pre{padding: 0;}#sk-container-id-12 div.sk-toggleable {background-color: white;}#sk-container-id-12 label.sk-toggleable__label {cursor: pointer;display: block;width: 100%;margin-bottom: 0;padding: 0.3em;box-sizing: border-box;text-align: center;}#sk-container-id-12 label.sk-toggleable__label-arrow:before {content: \"▸\";float: left;margin-right: 0.25em;color: #696969;}#sk-container-id-12 label.sk-toggleable__label-arrow:hover:before {color: black;}#sk-container-id-12 div.sk-estimator:hover label.sk-toggleable__label-arrow:before {color: black;}#sk-container-id-12 div.sk-toggleable__content {max-height: 0;max-width: 0;overflow: hidden;text-align: left;background-color: #f0f8ff;}#sk-container-id-12 div.sk-toggleable__content pre {margin: 0.2em;color: black;border-radius: 0.25em;background-color: #f0f8ff;}#sk-container-id-12 input.sk-toggleable__control:checked~div.sk-toggleable__content {max-height: 200px;max-width: 100%;overflow: auto;}#sk-container-id-12 input.sk-toggleable__control:checked~label.sk-toggleable__label-arrow:before {content: \"▾\";}#sk-container-id-12 div.sk-estimator input.sk-toggleable__control:checked~label.sk-toggleable__label {background-color: #d4ebff;}#sk-container-id-12 div.sk-label input.sk-toggleable__control:checked~label.sk-toggleable__label {background-color: #d4ebff;}#sk-container-id-12 input.sk-hidden--visually {border: 0;clip: rect(1px 1px 1px 1px);clip: rect(1px, 1px, 1px, 1px);height: 1px;margin: -1px;overflow: hidden;padding: 0;position: absolute;width: 1px;}#sk-container-id-12 div.sk-estimator {font-family: monospace;background-color: #f0f8ff;border: 1px dotted black;border-radius: 0.25em;box-sizing: border-box;margin-bottom: 0.5em;}#sk-container-id-12 div.sk-estimator:hover {background-color: #d4ebff;}#sk-container-id-12 div.sk-parallel-item::after {content: \"\";width: 100%;border-bottom: 1px solid gray;flex-grow: 1;}#sk-container-id-12 div.sk-label:hover label.sk-toggleable__label {background-color: #d4ebff;}#sk-container-id-12 div.sk-serial::before {content: \"\";position: absolute;border-left: 1px solid gray;box-sizing: border-box;top: 0;bottom: 0;left: 50%;z-index: 0;}#sk-container-id-12 div.sk-serial {display: flex;flex-direction: column;align-items: center;background-color: white;padding-right: 0.2em;padding-left: 0.2em;position: relative;}#sk-container-id-12 div.sk-item {position: relative;z-index: 1;}#sk-container-id-12 div.sk-parallel {display: flex;align-items: stretch;justify-content: center;background-color: white;position: relative;}#sk-container-id-12 div.sk-item::before, #sk-container-id-12 div.sk-parallel-item::before {content: \"\";position: absolute;border-left: 1px solid gray;box-sizing: border-box;top: 0;bottom: 0;left: 50%;z-index: -1;}#sk-container-id-12 div.sk-parallel-item {display: flex;flex-direction: column;z-index: 1;position: relative;background-color: white;}#sk-container-id-12 div.sk-parallel-item:first-child::after {align-self: flex-end;width: 50%;}#sk-container-id-12 div.sk-parallel-item:last-child::after {align-self: flex-start;width: 50%;}#sk-container-id-12 div.sk-parallel-item:only-child::after {width: 0;}#sk-container-id-12 div.sk-dashed-wrapped {border: 1px dashed gray;margin: 0 0.4em 0.5em 0.4em;box-sizing: border-box;padding-bottom: 0.4em;background-color: white;}#sk-container-id-12 div.sk-label label {font-family: monospace;font-weight: bold;display: inline-block;line-height: 1.2em;}#sk-container-id-12 div.sk-label-container {text-align: center;}#sk-container-id-12 div.sk-container {/* jupyter's `normalize.less` sets `[hidden] { display: none; }` but bootstrap.min.css set `[hidden] { display: none !important; }` so we also need the `!important` here to be able to override the default hidden behavior on the sphinx rendered scikit-learn.org. See: https://github.com/scikit-learn/scikit-learn/issues/21755 */display: inline-block !important;position: relative;}#sk-container-id-12 div.sk-text-repr-fallback {display: none;}</style><div id=\"sk-container-id-12\" class=\"sk-top-container\"><div class=\"sk-text-repr-fallback\"><pre>Pipeline(steps=[(&#x27;scaler&#x27;, StandardScaler()),\n",
       "                (&#x27;svm&#x27;, LinearSVC(C=0.1, dual=False, max_iter=10000))])</pre><b>In a Jupyter environment, please rerun this cell to show the HTML representation or trust the notebook. <br />On GitHub, the HTML representation is unable to render, please try loading this page with nbviewer.org.</b></div><div class=\"sk-container\" hidden><div class=\"sk-item sk-dashed-wrapped\"><div class=\"sk-label-container\"><div class=\"sk-label sk-toggleable\"><input class=\"sk-toggleable__control sk-hidden--visually\" id=\"sk-estimator-id-41\" type=\"checkbox\" ><label for=\"sk-estimator-id-41\" class=\"sk-toggleable__label sk-toggleable__label-arrow\">Pipeline</label><div class=\"sk-toggleable__content\"><pre>Pipeline(steps=[(&#x27;scaler&#x27;, StandardScaler()),\n",
       "                (&#x27;svm&#x27;, LinearSVC(C=0.1, dual=False, max_iter=10000))])</pre></div></div></div><div class=\"sk-serial\"><div class=\"sk-item\"><div class=\"sk-estimator sk-toggleable\"><input class=\"sk-toggleable__control sk-hidden--visually\" id=\"sk-estimator-id-42\" type=\"checkbox\" ><label for=\"sk-estimator-id-42\" class=\"sk-toggleable__label sk-toggleable__label-arrow\">StandardScaler</label><div class=\"sk-toggleable__content\"><pre>StandardScaler()</pre></div></div></div><div class=\"sk-item\"><div class=\"sk-estimator sk-toggleable\"><input class=\"sk-toggleable__control sk-hidden--visually\" id=\"sk-estimator-id-43\" type=\"checkbox\" ><label for=\"sk-estimator-id-43\" class=\"sk-toggleable__label sk-toggleable__label-arrow\">LinearSVC</label><div class=\"sk-toggleable__content\"><pre>LinearSVC(C=0.1, dual=False, max_iter=10000)</pre></div></div></div></div></div></div></div>"
      ],
      "text/plain": [
       "Pipeline(steps=[('scaler', StandardScaler()),\n",
       "                ('svm', LinearSVC(C=0.1, dual=False, max_iter=10000))])"
      ]
     },
     "execution_count": 65,
     "metadata": {},
     "output_type": "execute_result"
    }
   ],
   "source": [
    "# Fit the pipelines with the best parameters to the training data\n",
    "pipeline_linear_best.fit(X_train, y_train)"
   ]
  },
  {
   "cell_type": "code",
   "execution_count": 66,
   "metadata": {},
   "outputs": [
    {
     "name": "stdout",
     "output_type": "stream",
     "text": [
      "Accuracy of Linear SVM:  0.9638888888888889\n"
     ]
    }
   ],
   "source": [
    "# Calculate and print the accuracy of the Linear SVM model\n",
    "accuracy_linear = pipeline_linear_best.score(X_test, y_test)\n",
    "print(\"Accuracy of Linear SVM: \", accuracy_linear)"
   ]
  },
  {
   "cell_type": "code",
   "execution_count": 67,
   "metadata": {},
   "outputs": [
    {
     "name": "stdout",
     "output_type": "stream",
     "text": [
      "Training score of Linear SVM:  0.9874739039665971\n",
      "Cross-validation score of Linear SVM:  0.9519792876500194\n"
     ]
    }
   ],
   "source": [
    "# Calculate the training score \n",
    "training_score_linear = pipeline_linear_best.score(X_train, y_train)\n",
    "print(\"Training score of Linear SVM: \", training_score_linear)\n",
    "\n",
    "# Calculate the cross-validation score\n",
    "cv_score_linear = cross_val_score(pipeline_linear_best, X_train, y_train, cv=5).mean()\n",
    "print(\"Cross-validation score of Linear SVM: \", cv_score_linear)"
   ]
  },
  {
   "cell_type": "markdown",
   "metadata": {},
   "source": [
    "#### There is no overfitting or underfitting because both training score and cross-validation scores are both high and close to each other."
   ]
  },
  {
   "cell_type": "markdown",
   "metadata": {},
   "source": [
    "### Kernal SVM"
   ]
  },
  {
   "cell_type": "code",
   "execution_count": 68,
   "metadata": {},
   "outputs": [],
   "source": [
    "# Define hyperparameters to search\n",
    "param_grid_rbf = {'svm__C': [0.1, 1, 10, 100, 1000], 'svm__gamma': ['scale', 'auto', 0.0001, 0.001, 0.01, 0.1, 1]}"
   ]
  },
  {
   "cell_type": "markdown",
   "metadata": {},
   "source": [
    "#### This pipeline is used only for grid search this is not the final model"
   ]
  },
  {
   "cell_type": "code",
   "execution_count": 69,
   "metadata": {},
   "outputs": [],
   "source": [
    "# Define pipelines, for RBF SVM\n",
    "pipeline_rbf = Pipeline([\n",
    "    ('scaler', StandardScaler()),\n",
    "    ('svm', svm.SVC())\n",
    "])"
   ]
  },
  {
   "cell_type": "code",
   "execution_count": 70,
   "metadata": {},
   "outputs": [],
   "source": [
    "# Create GridSearchCV instances\n",
    "grid_rbf = GridSearchCV(pipeline_rbf, param_grid_rbf, refit=True, verbose=3, n_jobs=-1)"
   ]
  },
  {
   "cell_type": "code",
   "execution_count": 71,
   "metadata": {},
   "outputs": [
    {
     "name": "stdout",
     "output_type": "stream",
     "text": [
      "Fitting 5 folds for each of 35 candidates, totalling 175 fits\n",
      "[CV 1/5] END ......svm__C=0.1, svm__gamma=scale;, score=0.934 total time=   0.2s\n",
      "[CV 2/5] END ......svm__C=0.1, svm__gamma=scale;, score=0.917 total time=   0.2s[CV 3/5] END ......svm__C=0.1, svm__gamma=scale;, score=0.927 total time=   0.2s\n",
      "\n",
      "[CV 4/5] END ......svm__C=0.1, svm__gamma=scale;, score=0.955 total time=   0.2s\n",
      "[CV 5/5] END ......svm__C=0.1, svm__gamma=scale;, score=0.920 total time=   0.2s\n"
     ]
    },
    {
     "name": "stdout",
     "output_type": "stream",
     "text": [
      "[CV 4/5] END .......svm__C=0.1, svm__gamma=auto;, score=0.955 total time=   0.2s\n",
      "[CV 3/5] END .......svm__C=0.1, svm__gamma=auto;, score=0.927 total time=   0.2s\n",
      "[CV 2/5] END .......svm__C=0.1, svm__gamma=auto;, score=0.917 total time=   0.2s\n",
      "[CV 1/5] END .......svm__C=0.1, svm__gamma=auto;, score=0.934 total time=   0.2s\n",
      "[CV 5/5] END .......svm__C=0.1, svm__gamma=auto;, score=0.916 total time=   0.2s\n",
      "[CV 4/5] END .....svm__C=0.1, svm__gamma=0.0001;, score=0.108 total time=   0.2s\n",
      "[CV 3/5] END .....svm__C=0.1, svm__gamma=0.0001;, score=0.108 total time=   0.3s\n",
      "[CV 1/5] END .....svm__C=0.1, svm__gamma=0.0001;, score=0.108 total time=   0.3s\n",
      "[CV 1/5] END ......svm__C=0.1, svm__gamma=0.001;, score=0.358 total time=   0.3s\n",
      "[CV 2/5] END .....svm__C=0.1, svm__gamma=0.0001;, score=0.108 total time=   0.3s\n",
      "[CV 5/5] END .....svm__C=0.1, svm__gamma=0.0001;, score=0.105 total time=   0.3s\n",
      "[CV 3/5] END .......svm__C=0.1, svm__gamma=0.01;, score=0.923 total time=   0.2s\n",
      "[CV 1/5] END .......svm__C=0.1, svm__gamma=0.01;, score=0.941 total time=   0.2s\n",
      "[CV 2/5] END ......svm__C=0.1, svm__gamma=0.001;, score=0.344 total time=   0.3s\n",
      "[CV 4/5] END .......svm__C=0.1, svm__gamma=0.01;, score=0.951 total time=   0.2s\n",
      "[CV 5/5] END ......svm__C=0.1, svm__gamma=0.001;, score=0.348 total time=   0.3s\n",
      "[CV 5/5] END .......svm__C=0.1, svm__gamma=0.01;, score=0.913 total time=   0.3s\n",
      "[CV 3/5] END ......svm__C=0.1, svm__gamma=0.001;, score=0.334 total time=   0.3s\n",
      "[CV 1/5] END ........svm__C=0.1, svm__gamma=0.1;, score=0.344 total time=   0.3s\n",
      "[CV 2/5] END ........svm__C=1, svm__gamma=scale;, score=0.979 total time=   0.1s\n",
      "[CV 2/5] END .......svm__C=0.1, svm__gamma=0.01;, score=0.924 total time=   0.3s\n",
      "[CV 4/5] END ......svm__C=0.1, svm__gamma=0.001;, score=0.331 total time=   0.4s\n",
      "[CV 3/5] END ........svm__C=0.1, svm__gamma=0.1;, score=0.352 total time=   0.3s\n",
      "[CV 3/5] END .........svm__C=1, svm__gamma=auto;, score=0.969 total time=   0.1s\n",
      "[CV 2/5] END ........svm__C=0.1, svm__gamma=0.1;, score=0.358 total time=   0.3s\n",
      "[CV 1/5] END .........svm__C=1, svm__gamma=auto;, score=0.976 total time=   0.1s\n",
      "[CV 1/5] END ..........svm__C=0.1, svm__gamma=1;, score=0.108 total time=   0.3s\n",
      "[CV 5/5] END ........svm__C=0.1, svm__gamma=0.1;, score=0.331 total time=   0.3s\n",
      "[CV 4/5] END ........svm__C=1, svm__gamma=scale;, score=0.993 total time=   0.2s\n",
      "[CV 5/5] END .........svm__C=1, svm__gamma=auto;, score=0.969 total time=   0.1s\n",
      "[CV 3/5] END ........svm__C=1, svm__gamma=scale;, score=0.969 total time=   0.1s\n",
      "[CV 4/5] END ........svm__C=0.1, svm__gamma=0.1;, score=0.338 total time=   0.4s\n",
      "[CV 2/5] END ..........svm__C=0.1, svm__gamma=1;, score=0.108 total time=   0.3s\n",
      "[CV 4/5] END .........svm__C=1, svm__gamma=auto;, score=0.993 total time=   0.1s\n",
      "[CV 3/5] END ..........svm__C=0.1, svm__gamma=1;, score=0.108 total time=   0.3s\n",
      "[CV 5/5] END ........svm__C=1, svm__gamma=0.001;, score=0.923 total time=   0.1s\n",
      "[CV 2/5] END .........svm__C=1, svm__gamma=0.01;, score=0.972 total time=   0.1s\n",
      "[CV 4/5] END .........svm__C=1, svm__gamma=0.01;, score=0.993 total time=   0.1s\n",
      "[CV 2/5] END .........svm__C=1, svm__gamma=auto;, score=0.979 total time=   0.1s\n",
      "[CV 5/5] END ........svm__C=1, svm__gamma=scale;, score=0.972 total time=   0.1s\n",
      "[CV 5/5] END ..........svm__C=0.1, svm__gamma=1;, score=0.105 total time=   0.4s\n",
      "[CV 2/5] END .......svm__C=1, svm__gamma=0.0001;, score=0.434 total time=   0.3s\n",
      "[CV 1/5] END ........svm__C=1, svm__gamma=0.001;, score=0.955 total time=   0.2s\n",
      "[CV 3/5] END ........svm__C=1, svm__gamma=0.001;, score=0.948 total time=   0.2s\n",
      "[CV 1/5] END .........svm__C=1, svm__gamma=0.01;, score=0.972 total time=   0.1s\n",
      "[CV 3/5] END .........svm__C=1, svm__gamma=0.01;, score=0.969 total time=   0.1s\n",
      "[CV 5/5] END .........svm__C=1, svm__gamma=0.01;, score=0.962 total time=   0.1s\n",
      "[CV 4/5] END .......svm__C=1, svm__gamma=0.0001;, score=0.415 total time=   0.3s\n",
      "[CV 1/5] END .......svm__C=10, svm__gamma=scale;, score=0.969 total time=   0.1s\n",
      "[CV 1/5] END ........svm__C=1, svm__gamma=scale;, score=0.976 total time=   0.1s\n",
      "[CV 1/5] END .......svm__C=1, svm__gamma=0.0001;, score=0.434 total time=   0.3s\n",
      "[CV 3/5] END .......svm__C=10, svm__gamma=scale;, score=0.979 total time=   0.1s\n",
      "[CV 5/5] END .......svm__C=10, svm__gamma=scale;, score=0.976 total time=   0.1s\n",
      "[CV 2/5] END ........svm__C=1, svm__gamma=0.001;, score=0.938 total time=   0.1s\n",
      "[CV 4/5] END ........svm__C=1, svm__gamma=0.001;, score=0.976 total time=   0.1s\n",
      "[CV 2/5] END ........svm__C=10, svm__gamma=auto;, score=0.983 total time=   0.1s\n",
      "[CV 1/5] END ..........svm__C=1, svm__gamma=0.1;, score=0.951 total time=   0.3s\n",
      "[CV 2/5] END .......svm__C=10, svm__gamma=scale;, score=0.983 total time=   0.1s\n",
      "[CV 5/5] END ..........svm__C=1, svm__gamma=0.1;, score=0.923 total time=   0.3s\n",
      "[CV 4/5] END ........svm__C=10, svm__gamma=auto;, score=0.993 total time=   0.1s\n",
      "[CV 1/5] END ........svm__C=10, svm__gamma=auto;, score=0.969 total time=   0.1s\n",
      "[CV 4/5] END .......svm__C=10, svm__gamma=scale;, score=0.993 total time=   0.1s\n",
      "[CV 3/5] END ..........svm__C=1, svm__gamma=0.1;, score=0.916 total time=   0.3s\n",
      "[CV 4/5] END ..........svm__C=0.1, svm__gamma=1;, score=0.108 total time=   0.3s\n",
      "[CV 3/5] END .......svm__C=1, svm__gamma=0.0001;, score=0.449 total time=   0.3s\n",
      "[CV 1/5] END ......svm__C=10, svm__gamma=0.0001;, score=0.944 total time=   0.1s[CV 2/5] END .......svm__C=10, svm__gamma=0.001;, score=0.965 total time=   0.1s\n",
      "\n",
      "[CV 3/5] END ......svm__C=10, svm__gamma=0.0001;, score=0.951 total time=   0.1s\n",
      "[CV 5/5] END ......svm__C=10, svm__gamma=0.0001;, score=0.927 total time=   0.1s\n",
      "[CV 4/5] END .......svm__C=10, svm__gamma=0.001;, score=0.997 total time=   0.1s[CV 2/5] END ............svm__C=1, svm__gamma=1;, score=0.108 total time=   0.4s\n",
      "\n",
      "[CV 5/5] END ........svm__C=10, svm__gamma=auto;, score=0.976 total time=   0.1s\n",
      "[CV 3/5] END ........svm__C=10, svm__gamma=auto;, score=0.983 total time=   0.2s\n",
      "[CV 3/5] END .......svm__C=10, svm__gamma=0.001;, score=0.976 total time=   0.1s\n",
      "[CV 4/5] END ............svm__C=1, svm__gamma=1;, score=0.108 total time=   0.4s\n",
      "[CV 3/5] END ........svm__C=10, svm__gamma=0.01;, score=0.976 total time=   0.1s\n",
      "[CV 5/5] END ........svm__C=10, svm__gamma=0.01;, score=0.979 total time=   0.1s\n",
      "[CV 1/5] END ........svm__C=10, svm__gamma=0.01;, score=0.969 total time=   0.1s\n",
      "[CV 5/5] END .......svm__C=1, svm__gamma=0.0001;, score=0.422 total time=   0.3s\n",
      "[CV 1/5] END .......svm__C=10, svm__gamma=0.001;, score=0.990 total time=   0.1s\n",
      "[CV 5/5] END .......svm__C=10, svm__gamma=0.001;, score=0.969 total time=   0.1s\n",
      "[CV 2/5] END ......svm__C=10, svm__gamma=0.0001;, score=0.941 total time=   0.1s\n",
      "[CV 4/5] END ......svm__C=10, svm__gamma=0.0001;, score=0.976 total time=   0.1s\n",
      "[CV 4/5] END ........svm__C=10, svm__gamma=0.01;, score=0.993 total time=   0.1s\n",
      "[CV 2/5] END ........svm__C=10, svm__gamma=0.01;, score=0.983 total time=   0.1s\n",
      "[CV 2/5] END ..........svm__C=1, svm__gamma=0.1;, score=0.938 total time=   0.3s\n",
      "[CV 2/5] END ......svm__C=100, svm__gamma=scale;, score=0.983 total time=   0.1s\n",
      "[CV 4/5] END ......svm__C=100, svm__gamma=scale;, score=0.993 total time=   0.1s\n",
      "[CV 4/5] END ..........svm__C=1, svm__gamma=0.1;, score=0.923 total time=   0.3s\n",
      "[CV 1/5] END ............svm__C=1, svm__gamma=1;, score=0.108 total time=   0.3s\n",
      "[CV 1/5] END .......svm__C=100, svm__gamma=auto;, score=0.969 total time=   0.1s\n",
      "[CV 2/5] END .....svm__C=100, svm__gamma=0.0001;, score=0.976 total time=   0.1s\n",
      "[CV 3/5] END .......svm__C=100, svm__gamma=auto;, score=0.983 total time=   0.1s\n",
      "[CV 5/5] END .......svm__C=100, svm__gamma=auto;, score=0.976 total time=   0.1s\n",
      "[CV 4/5] END .....svm__C=100, svm__gamma=0.0001;, score=0.993 total time=   0.1s\n",
      "[CV 1/5] END ......svm__C=100, svm__gamma=0.001;, score=0.986 total time=   0.1s\n",
      "[CV 3/5] END ......svm__C=100, svm__gamma=scale;, score=0.979 total time=   0.1s\n",
      "[CV 5/5] END ......svm__C=100, svm__gamma=scale;, score=0.976 total time=   0.1s\n",
      "[CV 3/5] END .....svm__C=100, svm__gamma=0.0001;, score=0.976 total time=   0.1s\n",
      "[CV 4/5] END .........svm__C=10, svm__gamma=0.1;, score=0.927 total time=   0.3s\n",
      "[CV 2/5] END .......svm__C=100, svm__gamma=auto;, score=0.983 total time=   0.1s\n",
      "[CV 2/5] END ......svm__C=100, svm__gamma=0.001;, score=0.965 total time=   0.1s[CV 2/5] END .........svm__C=10, svm__gamma=0.1;, score=0.938 total time=   0.3s\n",
      "\n",
      "[CV 1/5] END .........svm__C=10, svm__gamma=0.1;, score=0.951 total time=   0.3s\n",
      "[CV 5/5] END .....svm__C=100, svm__gamma=0.0001;, score=0.972 total time=   0.1s\n",
      "[CV 4/5] END .......svm__C=100, svm__gamma=auto;, score=0.993 total time=   0.1s\n",
      "[CV 1/5] END .....svm__C=100, svm__gamma=0.0001;, score=0.986 total time=   0.1s\n",
      "[CV 3/5] END ......svm__C=100, svm__gamma=0.001;, score=0.972 total time=   0.1s\n",
      "[CV 5/5] END ......svm__C=100, svm__gamma=0.001;, score=0.972 total time=   0.1s\n",
      "[CV 1/5] END ...........svm__C=10, svm__gamma=1;, score=0.108 total time=   0.3s\n",
      "[CV 3/5] END ............svm__C=1, svm__gamma=1;, score=0.108 total time=   0.4s\n",
      "[CV 5/5] END ............svm__C=1, svm__gamma=1;, score=0.105 total time=   0.3s\n",
      "[CV 3/5] END ...........svm__C=10, svm__gamma=1;, score=0.111 total time=   0.3s\n",
      "[CV 2/5] END .......svm__C=100, svm__gamma=0.01;, score=0.986 total time=   0.1s\n",
      "[CV 5/5] END ...........svm__C=10, svm__gamma=1;, score=0.105 total time=   0.3s\n",
      "[CV 4/5] END .......svm__C=100, svm__gamma=0.01;, score=0.993 total time=   0.1s\n",
      "[CV 4/5] END ......svm__C=100, svm__gamma=0.001;, score=0.986 total time=   0.1s\n",
      "[CV 1/5] END .......svm__C=100, svm__gamma=0.01;, score=0.969 total time=   0.1s\n",
      "[CV 3/5] END .....svm__C=1000, svm__gamma=scale;, score=0.979 total time=   0.1s\n",
      "[CV 3/5] END .......svm__C=100, svm__gamma=0.01;, score=0.979 total time=   0.1s\n",
      "[CV 5/5] END .......svm__C=100, svm__gamma=0.01;, score=0.979 total time=   0.1s\n",
      "[CV 1/5] END .....svm__C=1000, svm__gamma=scale;, score=0.969 total time=   0.1s\n",
      "[CV 1/5] END ......svm__C=100, svm__gamma=scale;, score=0.969 total time=   0.1s\n",
      "[CV 5/5] END .....svm__C=1000, svm__gamma=scale;, score=0.976 total time=   0.1s\n",
      "[CV 2/5] END ......svm__C=1000, svm__gamma=auto;, score=0.983 total time=   0.1s\n",
      "[CV 1/5] END ....svm__C=1000, svm__gamma=0.0001;, score=0.983 total time=   0.1s\n",
      "[CV 3/5] END ....svm__C=1000, svm__gamma=0.0001;, score=0.972 total time=   0.1s\n",
      "[CV 5/5] END .........svm__C=10, svm__gamma=0.1;, score=0.923 total time=   0.3s\n",
      "[CV 4/5] END .....svm__C=1000, svm__gamma=scale;, score=0.993 total time=   0.1s\n",
      "[CV 4/5] END ......svm__C=1000, svm__gamma=auto;, score=0.993 total time=   0.1s\n",
      "[CV 2/5] END .....svm__C=1000, svm__gamma=scale;, score=0.983 total time=   0.1s\n",
      "[CV 2/5] END ....svm__C=1000, svm__gamma=0.0001;, score=0.965 total time=   0.1s\n",
      "[CV 3/5] END .........svm__C=10, svm__gamma=0.1;, score=0.920 total time=   0.3s[CV 1/5] END ........svm__C=100, svm__gamma=0.1;, score=0.951 total time=   0.3s\n",
      "\n",
      "[CV 3/5] END ........svm__C=100, svm__gamma=0.1;, score=0.920 total time=   0.3s\n",
      "[CV 3/5] END ......svm__C=1000, svm__gamma=auto;, score=0.983 total time=   0.1s\n",
      "[CV 1/5] END ......svm__C=1000, svm__gamma=auto;, score=0.969 total time=   0.1s\n",
      "[CV 4/5] END ....svm__C=1000, svm__gamma=0.0001;, score=0.983 total time=   0.1s\n",
      "[CV 5/5] END ....svm__C=1000, svm__gamma=0.0001;, score=0.958 total time=   0.1s\n",
      "[CV 2/5] END .....svm__C=1000, svm__gamma=0.001;, score=0.972 total time=   0.1s\n",
      "[CV 2/5] END ...........svm__C=10, svm__gamma=1;, score=0.108 total time=   0.3s\n",
      "[CV 2/5] END ..........svm__C=100, svm__gamma=1;, score=0.108 total time=   0.3s\n",
      "[CV 5/5] END ........svm__C=100, svm__gamma=0.1;, score=0.923 total time=   0.3s\n",
      "[CV 4/5] END .....svm__C=1000, svm__gamma=0.001;, score=0.990 total time=   0.1s\n",
      "[CV 4/5] END ...........svm__C=10, svm__gamma=1;, score=0.108 total time=   0.3s\n",
      "[CV 1/5] END ......svm__C=1000, svm__gamma=0.01;, score=0.969 total time=   0.1s\n",
      "[CV 5/5] END ......svm__C=1000, svm__gamma=auto;, score=0.976 total time=   0.1s\n",
      "[CV 2/5] END ......svm__C=1000, svm__gamma=0.01;, score=0.986 total time=   0.1s\n",
      "[CV 1/5] END .....svm__C=1000, svm__gamma=0.001;, score=0.983 total time=   0.1s\n",
      "[CV 3/5] END .....svm__C=1000, svm__gamma=0.001;, score=0.972 total time=   0.1s\n",
      "[CV 4/5] END ..........svm__C=100, svm__gamma=1;, score=0.108 total time=   0.4s\n",
      "[CV 3/5] END ......svm__C=1000, svm__gamma=0.01;, score=0.979 total time=   0.1s\n",
      "[CV 5/5] END ......svm__C=1000, svm__gamma=0.01;, score=0.979 total time=   0.1s\n",
      "[CV 4/5] END ......svm__C=1000, svm__gamma=0.01;, score=0.993 total time=   0.1s\n",
      "[CV 5/5] END .....svm__C=1000, svm__gamma=0.001;, score=0.972 total time=   0.1s\n",
      "[CV 2/5] END ........svm__C=100, svm__gamma=0.1;, score=0.938 total time=   0.3s\n",
      "[CV 4/5] END ........svm__C=100, svm__gamma=0.1;, score=0.927 total time=   0.3s\n",
      "[CV 2/5] END .......svm__C=1000, svm__gamma=0.1;, score=0.938 total time=   0.2s\n",
      "[CV 1/5] END .......svm__C=1000, svm__gamma=0.1;, score=0.951 total time=   0.3s\n",
      "[CV 3/5] END ..........svm__C=100, svm__gamma=1;, score=0.111 total time=   0.3s\n",
      "[CV 3/5] END .......svm__C=1000, svm__gamma=0.1;, score=0.920 total time=   0.3s\n",
      "[CV 5/5] END .......svm__C=1000, svm__gamma=0.1;, score=0.923 total time=   0.3s\n",
      "[CV 4/5] END .......svm__C=1000, svm__gamma=0.1;, score=0.927 total time=   0.3s\n",
      "[CV 1/5] END ..........svm__C=100, svm__gamma=1;, score=0.108 total time=   0.3s\n",
      "[CV 5/5] END ..........svm__C=100, svm__gamma=1;, score=0.105 total time=   0.3s\n",
      "[CV 2/5] END .........svm__C=1000, svm__gamma=1;, score=0.108 total time=   0.3s\n",
      "[CV 4/5] END .........svm__C=1000, svm__gamma=1;, score=0.108 total time=   0.3s\n",
      "[CV 1/5] END .........svm__C=1000, svm__gamma=1;, score=0.108 total time=   0.3s\n",
      "[CV 5/5] END .........svm__C=1000, svm__gamma=1;, score=0.105 total time=   0.3s\n",
      "[CV 3/5] END .........svm__C=1000, svm__gamma=1;, score=0.111 total time=   0.3s\n"
     ]
    },
    {
     "data": {
      "text/html": [
       "<style>#sk-container-id-13 {color: black;}#sk-container-id-13 pre{padding: 0;}#sk-container-id-13 div.sk-toggleable {background-color: white;}#sk-container-id-13 label.sk-toggleable__label {cursor: pointer;display: block;width: 100%;margin-bottom: 0;padding: 0.3em;box-sizing: border-box;text-align: center;}#sk-container-id-13 label.sk-toggleable__label-arrow:before {content: \"▸\";float: left;margin-right: 0.25em;color: #696969;}#sk-container-id-13 label.sk-toggleable__label-arrow:hover:before {color: black;}#sk-container-id-13 div.sk-estimator:hover label.sk-toggleable__label-arrow:before {color: black;}#sk-container-id-13 div.sk-toggleable__content {max-height: 0;max-width: 0;overflow: hidden;text-align: left;background-color: #f0f8ff;}#sk-container-id-13 div.sk-toggleable__content pre {margin: 0.2em;color: black;border-radius: 0.25em;background-color: #f0f8ff;}#sk-container-id-13 input.sk-toggleable__control:checked~div.sk-toggleable__content {max-height: 200px;max-width: 100%;overflow: auto;}#sk-container-id-13 input.sk-toggleable__control:checked~label.sk-toggleable__label-arrow:before {content: \"▾\";}#sk-container-id-13 div.sk-estimator input.sk-toggleable__control:checked~label.sk-toggleable__label {background-color: #d4ebff;}#sk-container-id-13 div.sk-label input.sk-toggleable__control:checked~label.sk-toggleable__label {background-color: #d4ebff;}#sk-container-id-13 input.sk-hidden--visually {border: 0;clip: rect(1px 1px 1px 1px);clip: rect(1px, 1px, 1px, 1px);height: 1px;margin: -1px;overflow: hidden;padding: 0;position: absolute;width: 1px;}#sk-container-id-13 div.sk-estimator {font-family: monospace;background-color: #f0f8ff;border: 1px dotted black;border-radius: 0.25em;box-sizing: border-box;margin-bottom: 0.5em;}#sk-container-id-13 div.sk-estimator:hover {background-color: #d4ebff;}#sk-container-id-13 div.sk-parallel-item::after {content: \"\";width: 100%;border-bottom: 1px solid gray;flex-grow: 1;}#sk-container-id-13 div.sk-label:hover label.sk-toggleable__label {background-color: #d4ebff;}#sk-container-id-13 div.sk-serial::before {content: \"\";position: absolute;border-left: 1px solid gray;box-sizing: border-box;top: 0;bottom: 0;left: 50%;z-index: 0;}#sk-container-id-13 div.sk-serial {display: flex;flex-direction: column;align-items: center;background-color: white;padding-right: 0.2em;padding-left: 0.2em;position: relative;}#sk-container-id-13 div.sk-item {position: relative;z-index: 1;}#sk-container-id-13 div.sk-parallel {display: flex;align-items: stretch;justify-content: center;background-color: white;position: relative;}#sk-container-id-13 div.sk-item::before, #sk-container-id-13 div.sk-parallel-item::before {content: \"\";position: absolute;border-left: 1px solid gray;box-sizing: border-box;top: 0;bottom: 0;left: 50%;z-index: -1;}#sk-container-id-13 div.sk-parallel-item {display: flex;flex-direction: column;z-index: 1;position: relative;background-color: white;}#sk-container-id-13 div.sk-parallel-item:first-child::after {align-self: flex-end;width: 50%;}#sk-container-id-13 div.sk-parallel-item:last-child::after {align-self: flex-start;width: 50%;}#sk-container-id-13 div.sk-parallel-item:only-child::after {width: 0;}#sk-container-id-13 div.sk-dashed-wrapped {border: 1px dashed gray;margin: 0 0.4em 0.5em 0.4em;box-sizing: border-box;padding-bottom: 0.4em;background-color: white;}#sk-container-id-13 div.sk-label label {font-family: monospace;font-weight: bold;display: inline-block;line-height: 1.2em;}#sk-container-id-13 div.sk-label-container {text-align: center;}#sk-container-id-13 div.sk-container {/* jupyter's `normalize.less` sets `[hidden] { display: none; }` but bootstrap.min.css set `[hidden] { display: none !important; }` so we also need the `!important` here to be able to override the default hidden behavior on the sphinx rendered scikit-learn.org. See: https://github.com/scikit-learn/scikit-learn/issues/21755 */display: inline-block !important;position: relative;}#sk-container-id-13 div.sk-text-repr-fallback {display: none;}</style><div id=\"sk-container-id-13\" class=\"sk-top-container\"><div class=\"sk-text-repr-fallback\"><pre>GridSearchCV(estimator=Pipeline(steps=[(&#x27;scaler&#x27;, StandardScaler()),\n",
       "                                       (&#x27;svm&#x27;, SVC())]),\n",
       "             n_jobs=-1,\n",
       "             param_grid={&#x27;svm__C&#x27;: [0.1, 1, 10, 100, 1000],\n",
       "                         &#x27;svm__gamma&#x27;: [&#x27;scale&#x27;, &#x27;auto&#x27;, 0.0001, 0.001, 0.01,\n",
       "                                        0.1, 1]},\n",
       "             verbose=3)</pre><b>In a Jupyter environment, please rerun this cell to show the HTML representation or trust the notebook. <br />On GitHub, the HTML representation is unable to render, please try loading this page with nbviewer.org.</b></div><div class=\"sk-container\" hidden><div class=\"sk-item sk-dashed-wrapped\"><div class=\"sk-label-container\"><div class=\"sk-label sk-toggleable\"><input class=\"sk-toggleable__control sk-hidden--visually\" id=\"sk-estimator-id-44\" type=\"checkbox\" ><label for=\"sk-estimator-id-44\" class=\"sk-toggleable__label sk-toggleable__label-arrow\">GridSearchCV</label><div class=\"sk-toggleable__content\"><pre>GridSearchCV(estimator=Pipeline(steps=[(&#x27;scaler&#x27;, StandardScaler()),\n",
       "                                       (&#x27;svm&#x27;, SVC())]),\n",
       "             n_jobs=-1,\n",
       "             param_grid={&#x27;svm__C&#x27;: [0.1, 1, 10, 100, 1000],\n",
       "                         &#x27;svm__gamma&#x27;: [&#x27;scale&#x27;, &#x27;auto&#x27;, 0.0001, 0.001, 0.01,\n",
       "                                        0.1, 1]},\n",
       "             verbose=3)</pre></div></div></div><div class=\"sk-parallel\"><div class=\"sk-parallel-item\"><div class=\"sk-item\"><div class=\"sk-label-container\"><div class=\"sk-label sk-toggleable\"><input class=\"sk-toggleable__control sk-hidden--visually\" id=\"sk-estimator-id-45\" type=\"checkbox\" ><label for=\"sk-estimator-id-45\" class=\"sk-toggleable__label sk-toggleable__label-arrow\">estimator: Pipeline</label><div class=\"sk-toggleable__content\"><pre>Pipeline(steps=[(&#x27;scaler&#x27;, StandardScaler()), (&#x27;svm&#x27;, SVC())])</pre></div></div></div><div class=\"sk-serial\"><div class=\"sk-item\"><div class=\"sk-serial\"><div class=\"sk-item\"><div class=\"sk-estimator sk-toggleable\"><input class=\"sk-toggleable__control sk-hidden--visually\" id=\"sk-estimator-id-46\" type=\"checkbox\" ><label for=\"sk-estimator-id-46\" class=\"sk-toggleable__label sk-toggleable__label-arrow\">StandardScaler</label><div class=\"sk-toggleable__content\"><pre>StandardScaler()</pre></div></div></div><div class=\"sk-item\"><div class=\"sk-estimator sk-toggleable\"><input class=\"sk-toggleable__control sk-hidden--visually\" id=\"sk-estimator-id-47\" type=\"checkbox\" ><label for=\"sk-estimator-id-47\" class=\"sk-toggleable__label sk-toggleable__label-arrow\">SVC</label><div class=\"sk-toggleable__content\"><pre>SVC()</pre></div></div></div></div></div></div></div></div></div></div></div></div>"
      ],
      "text/plain": [
       "GridSearchCV(estimator=Pipeline(steps=[('scaler', StandardScaler()),\n",
       "                                       ('svm', SVC())]),\n",
       "             n_jobs=-1,\n",
       "             param_grid={'svm__C': [0.1, 1, 10, 100, 1000],\n",
       "                         'svm__gamma': ['scale', 'auto', 0.0001, 0.001, 0.01,\n",
       "                                        0.1, 1]},\n",
       "             verbose=3)"
      ]
     },
     "execution_count": 71,
     "metadata": {},
     "output_type": "execute_result"
    }
   ],
   "source": [
    "# Fit the instances to the training data\n",
    "grid_rbf.fit(X_train, y_train)"
   ]
  },
  {
   "cell_type": "code",
   "execution_count": 72,
   "metadata": {},
   "outputs": [
    {
     "name": "stdout",
     "output_type": "stream",
     "text": [
      "Best parameters for Kernel SVM:  {'svm__C': 100, 'svm__gamma': 0.01}\n"
     ]
    }
   ],
   "source": [
    "# Get the best parameters\n",
    "best_params_rbf = grid_rbf.best_params_\n",
    "# Print the best parameters found and the accuracy for Kernel SVM\n",
    "print(\"Best parameters for Kernel SVM: \", best_params_rbf)\n"
   ]
  },
  {
   "cell_type": "markdown",
   "metadata": {},
   "source": [
    "#### Final pipeline with the best parameters"
   ]
  },
  {
   "cell_type": "code",
   "execution_count": 73,
   "metadata": {},
   "outputs": [],
   "source": [
    "# Define the pipelines with the best parameters\n",
    "pipeline_rbf_best = Pipeline([\n",
    "    ('scaler', StandardScaler()),\n",
    "    ('svm', svm.SVC(C=best_params_rbf['svm__C'], gamma=best_params_rbf['svm__gamma']))\n",
    "])\n"
   ]
  },
  {
   "cell_type": "code",
   "execution_count": 74,
   "metadata": {},
   "outputs": [
    {
     "data": {
      "text/html": [
       "<style>#sk-container-id-14 {color: black;}#sk-container-id-14 pre{padding: 0;}#sk-container-id-14 div.sk-toggleable {background-color: white;}#sk-container-id-14 label.sk-toggleable__label {cursor: pointer;display: block;width: 100%;margin-bottom: 0;padding: 0.3em;box-sizing: border-box;text-align: center;}#sk-container-id-14 label.sk-toggleable__label-arrow:before {content: \"▸\";float: left;margin-right: 0.25em;color: #696969;}#sk-container-id-14 label.sk-toggleable__label-arrow:hover:before {color: black;}#sk-container-id-14 div.sk-estimator:hover label.sk-toggleable__label-arrow:before {color: black;}#sk-container-id-14 div.sk-toggleable__content {max-height: 0;max-width: 0;overflow: hidden;text-align: left;background-color: #f0f8ff;}#sk-container-id-14 div.sk-toggleable__content pre {margin: 0.2em;color: black;border-radius: 0.25em;background-color: #f0f8ff;}#sk-container-id-14 input.sk-toggleable__control:checked~div.sk-toggleable__content {max-height: 200px;max-width: 100%;overflow: auto;}#sk-container-id-14 input.sk-toggleable__control:checked~label.sk-toggleable__label-arrow:before {content: \"▾\";}#sk-container-id-14 div.sk-estimator input.sk-toggleable__control:checked~label.sk-toggleable__label {background-color: #d4ebff;}#sk-container-id-14 div.sk-label input.sk-toggleable__control:checked~label.sk-toggleable__label {background-color: #d4ebff;}#sk-container-id-14 input.sk-hidden--visually {border: 0;clip: rect(1px 1px 1px 1px);clip: rect(1px, 1px, 1px, 1px);height: 1px;margin: -1px;overflow: hidden;padding: 0;position: absolute;width: 1px;}#sk-container-id-14 div.sk-estimator {font-family: monospace;background-color: #f0f8ff;border: 1px dotted black;border-radius: 0.25em;box-sizing: border-box;margin-bottom: 0.5em;}#sk-container-id-14 div.sk-estimator:hover {background-color: #d4ebff;}#sk-container-id-14 div.sk-parallel-item::after {content: \"\";width: 100%;border-bottom: 1px solid gray;flex-grow: 1;}#sk-container-id-14 div.sk-label:hover label.sk-toggleable__label {background-color: #d4ebff;}#sk-container-id-14 div.sk-serial::before {content: \"\";position: absolute;border-left: 1px solid gray;box-sizing: border-box;top: 0;bottom: 0;left: 50%;z-index: 0;}#sk-container-id-14 div.sk-serial {display: flex;flex-direction: column;align-items: center;background-color: white;padding-right: 0.2em;padding-left: 0.2em;position: relative;}#sk-container-id-14 div.sk-item {position: relative;z-index: 1;}#sk-container-id-14 div.sk-parallel {display: flex;align-items: stretch;justify-content: center;background-color: white;position: relative;}#sk-container-id-14 div.sk-item::before, #sk-container-id-14 div.sk-parallel-item::before {content: \"\";position: absolute;border-left: 1px solid gray;box-sizing: border-box;top: 0;bottom: 0;left: 50%;z-index: -1;}#sk-container-id-14 div.sk-parallel-item {display: flex;flex-direction: column;z-index: 1;position: relative;background-color: white;}#sk-container-id-14 div.sk-parallel-item:first-child::after {align-self: flex-end;width: 50%;}#sk-container-id-14 div.sk-parallel-item:last-child::after {align-self: flex-start;width: 50%;}#sk-container-id-14 div.sk-parallel-item:only-child::after {width: 0;}#sk-container-id-14 div.sk-dashed-wrapped {border: 1px dashed gray;margin: 0 0.4em 0.5em 0.4em;box-sizing: border-box;padding-bottom: 0.4em;background-color: white;}#sk-container-id-14 div.sk-label label {font-family: monospace;font-weight: bold;display: inline-block;line-height: 1.2em;}#sk-container-id-14 div.sk-label-container {text-align: center;}#sk-container-id-14 div.sk-container {/* jupyter's `normalize.less` sets `[hidden] { display: none; }` but bootstrap.min.css set `[hidden] { display: none !important; }` so we also need the `!important` here to be able to override the default hidden behavior on the sphinx rendered scikit-learn.org. See: https://github.com/scikit-learn/scikit-learn/issues/21755 */display: inline-block !important;position: relative;}#sk-container-id-14 div.sk-text-repr-fallback {display: none;}</style><div id=\"sk-container-id-14\" class=\"sk-top-container\"><div class=\"sk-text-repr-fallback\"><pre>Pipeline(steps=[(&#x27;scaler&#x27;, StandardScaler()), (&#x27;svm&#x27;, SVC(C=100, gamma=0.01))])</pre><b>In a Jupyter environment, please rerun this cell to show the HTML representation or trust the notebook. <br />On GitHub, the HTML representation is unable to render, please try loading this page with nbviewer.org.</b></div><div class=\"sk-container\" hidden><div class=\"sk-item sk-dashed-wrapped\"><div class=\"sk-label-container\"><div class=\"sk-label sk-toggleable\"><input class=\"sk-toggleable__control sk-hidden--visually\" id=\"sk-estimator-id-48\" type=\"checkbox\" ><label for=\"sk-estimator-id-48\" class=\"sk-toggleable__label sk-toggleable__label-arrow\">Pipeline</label><div class=\"sk-toggleable__content\"><pre>Pipeline(steps=[(&#x27;scaler&#x27;, StandardScaler()), (&#x27;svm&#x27;, SVC(C=100, gamma=0.01))])</pre></div></div></div><div class=\"sk-serial\"><div class=\"sk-item\"><div class=\"sk-estimator sk-toggleable\"><input class=\"sk-toggleable__control sk-hidden--visually\" id=\"sk-estimator-id-49\" type=\"checkbox\" ><label for=\"sk-estimator-id-49\" class=\"sk-toggleable__label sk-toggleable__label-arrow\">StandardScaler</label><div class=\"sk-toggleable__content\"><pre>StandardScaler()</pre></div></div></div><div class=\"sk-item\"><div class=\"sk-estimator sk-toggleable\"><input class=\"sk-toggleable__control sk-hidden--visually\" id=\"sk-estimator-id-50\" type=\"checkbox\" ><label for=\"sk-estimator-id-50\" class=\"sk-toggleable__label sk-toggleable__label-arrow\">SVC</label><div class=\"sk-toggleable__content\"><pre>SVC(C=100, gamma=0.01)</pre></div></div></div></div></div></div></div>"
      ],
      "text/plain": [
       "Pipeline(steps=[('scaler', StandardScaler()), ('svm', SVC(C=100, gamma=0.01))])"
      ]
     },
     "execution_count": 74,
     "metadata": {},
     "output_type": "execute_result"
    }
   ],
   "source": [
    "# Fit the pipelines with the best parameters to the training data\n",
    "pipeline_rbf_best.fit(X_train, y_train)"
   ]
  },
  {
   "cell_type": "code",
   "execution_count": 75,
   "metadata": {},
   "outputs": [
    {
     "name": "stdout",
     "output_type": "stream",
     "text": [
      "Accuracy of Kernel SVM:  0.9805555555555555\n"
     ]
    }
   ],
   "source": [
    "# Calculate and print the accuracy of the Kernel SVM model\n",
    "accuracy_rbf = pipeline_rbf_best.score(X_test, y_test)\n",
    "print(\"Accuracy of Kernel SVM: \", accuracy_rbf)"
   ]
  },
  {
   "cell_type": "code",
   "execution_count": 76,
   "metadata": {},
   "outputs": [
    {
     "name": "stdout",
     "output_type": "stream",
     "text": [
      "Training score of Kernel SVM:  1.0\n"
     ]
    },
    {
     "name": "stdout",
     "output_type": "stream",
     "text": [
      "Cross-validation score of Kernel SVM:  0.9812161246612467\n"
     ]
    }
   ],
   "source": [
    "# Calculate the training score\n",
    "training_score_rbf = pipeline_rbf_best.score(X_train, y_train)\n",
    "print(\"Training score of Kernel SVM: \", training_score_rbf)\n",
    "\n",
    "# Calculate the cross-validation score\n",
    "cv_score_rbf = cross_val_score(pipeline_rbf_best, X_train, y_train, cv=5).mean()\n",
    "print(\"Cross-validation score of Kernel SVM: \", cv_score_rbf)\n"
   ]
  },
  {
   "cell_type": "markdown",
   "metadata": {},
   "source": [
    "#### The model is not over or underfitting, although the training score is 1.0 (perfect) the cross validation score is 0.98 so the gap between training and cross validation score is not that big. And since both the scores are high the model is certainly not underfitting."
   ]
  }
 ],
 "metadata": {
  "kernelspec": {
   "display_name": "Python 3",
   "language": "python",
   "name": "python3"
  },
  "language_info": {
   "codemirror_mode": {
    "name": "ipython",
    "version": 3
   },
   "file_extension": ".py",
   "mimetype": "text/x-python",
   "name": "python",
   "nbconvert_exporter": "python",
   "pygments_lexer": "ipython3",
   "version": "3.10.12"
  }
 },
 "nbformat": 4,
 "nbformat_minor": 2
}
